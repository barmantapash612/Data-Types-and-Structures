{
  "nbformat": 4,
  "nbformat_minor": 0,
  "metadata": {
    "colab": {
      "provenance": []
    },
    "kernelspec": {
      "name": "python3",
      "display_name": "Python 3"
    },
    "language_info": {
      "name": "python"
    }
  },
  "cells": [
    {
      "cell_type": "markdown",
      "source": [
        "#                           Data Types and Structures"
      ],
      "metadata": {
        "id": "qYzvWXJgjFGO"
      }
    },
    {
      "cell_type": "markdown",
      "source": [
        "#                                    Theory"
      ],
      "metadata": {
        "id": "zsRiOB3KjV3i"
      }
    },
    {
      "cell_type": "markdown",
      "source": [
        "**1 . What are data structures, and why are they important?**\n",
        "\n",
        "▶\n",
        "\n",
        "Data structures are ways to organize, store, and manage data so it can be used efficiently. In Python, data structures help you group and manipulate data in useful formats.\n",
        "\n",
        "▶\n",
        "\n",
        "1 . Efficient Storage: Help you store data in a structured way.\n",
        "\n",
        "2 . Faster Operations: Make it easier and quicker to search, insert, delete, and update data.\n",
        "\n",
        " 3 . Code Clarity: Make your code cleaner and easier to understand.\n",
        "\n",
        "4 .  Performance: Good choice of data structures can make programs run faster and use less memory."
      ],
      "metadata": {
        "id": "jFt_JdMsjyOp"
      }
    },
    {
      "cell_type": "markdown",
      "source": [
        "**2 . Explain the difference between mutable and immutable data types with examples.**\n",
        "\n",
        "▶These can be changed after they are created — meaning you can modify, add, or remove elements without creating a new object.\n",
        "\n",
        "▶These cannot be changed after creation. If you try to change them, a new object is created.\n",
        "\n",
        "Examples:\n",
        "\n",
        "int,\n",
        "float"
      ],
      "metadata": {
        "id": "66WEgE4old1S"
      }
    },
    {
      "cell_type": "markdown",
      "source": [
        "**3 . What are the main differences between lists and tuples in Python?**\n",
        "\n",
        "▶\n",
        "**Lists:**\n",
        "\n",
        "* Mutable (can change)\n",
        "\n",
        "* Use square brackets: [ ]\n",
        "\n",
        "* Slower but flexible\n",
        "\n",
        "* More methods (e.g., append, remove)\n",
        "\n",
        "**Tuples:**\n",
        "\n",
        "* Immutable (cannot change)\n",
        "\n",
        "* Use parentheses: ( )\n",
        "\n",
        "* Faster and memory efficient\n",
        "\n",
        "* Fewer methods\n",
        "\n"
      ],
      "metadata": {
        "id": "lJ4gZUFMnaDJ"
      }
    },
    {
      "cell_type": "markdown",
      "source": [
        "**4 . Describe how dictionaries store data.**\n",
        "\n",
        "▶Dictionaries store data as key-value pairs using curly braces {}.\n",
        "\n",
        "Ex : person = {\"name\": \"Alice\", \"age\": 25}\n",
        "\n",
        "🔹 Keys are unique and used to access values.\n",
        "\n",
        "🔹 Stored internally using a hash table for fast access.\n",
        "\n",
        "⚫ Keys must be immutable (like strings, numbers)\n",
        "\n",
        "⚫ Values can be any type\n",
        "\n",
        "\n"
      ],
      "metadata": {
        "id": "XHaRgzASpnDh"
      }
    },
    {
      "cell_type": "markdown",
      "source": [
        "**5 . Why might you use a set instead of a list in Python?**\n",
        "\n",
        "▶\n",
        "✅ Want to automatically remove duplicates\n",
        "\n",
        "✅ Need fast checks for whether an item exists\n",
        "\n",
        "❌ Don't care about the order of elements\n",
        "\n",
        "Ex : my_list = [1, 2, 2, 3]\n",
        "\n",
        "my_set = set(my_list)  "
      ],
      "metadata": {
        "id": "Z7__52E4sOm7"
      }
    },
    {
      "cell_type": "markdown",
      "source": [
        "**6 .  What is a string in Python, and how is it different from a list ?**\n",
        "\n",
        "▶A string is a sequence of characters (like text).\n",
        "\n",
        "Example: \"hello\" is a string.\n",
        "\n",
        "▶A string in Python is a sequence of characters, like \"hello\", used to represent text.\n",
        "A list is a collection of items, which can be of any data type (e.g., numbers, strings, etc.).\n",
        "\n",
        "Strings are immutable — you can't change them after creation.\n",
        "Lists are mutable, so you can add, remove, or change elements.\n",
        "\n",
        "Strings use quotes (\" \" or ' '), while lists use square brackets ([ ]).\n",
        "Each element in a string is a character, but in a list, it can be anything.\n",
        "\n",
        "Use strings for text, and lists for a group of related values."
      ],
      "metadata": {
        "id": "b3MOcHadtKm2"
      }
    },
    {
      "cell_type": "markdown",
      "source": [
        "**7 .  How do tuples ensure data integrity in Python?**\n",
        "\n",
        "▶Tuples ensure data integrity by being immutable, meaning their values cannot be changed after creation.\n",
        "This prevents accidental modification of the data.\n",
        "\n",
        "Because they are fixed, tuples are ideal for storing constant, unchangeable information.\n",
        "They help keep data safe, consistent, and reliable throughout the program."
      ],
      "metadata": {
        "id": "_6ndmPHcunL4"
      }
    },
    {
      "cell_type": "markdown",
      "source": [
        "**8 . What is a hash table, and how does it relate to dictionaries in Python?**\n",
        "\n",
        "▶A hash table is a data structure that stores data in an associative manner, meaning it maps keys to values. It uses a hash function to compute an index (also called a hash code) into an array of buckets or slots, from which the desired value can be found.\n",
        "\n",
        "▶In Python, a dictionary (dict) is implemented using a hash table under the hood.\n",
        "\n",
        "Ex :  my_dict = {\"apple\": 10, \"banana\": 5}\n",
        "\n",
        "\"apple\" is a key.\n",
        "\n",
        "Python internally hashes \"apple\" to get an index.\n",
        "\n",
        "At that index, it stores the value 10.\n",
        "\n",
        "\n"
      ],
      "metadata": {
        "id": "xoU7TclevMM8"
      }
    },
    {
      "cell_type": "markdown",
      "source": [
        "**9.  Can lists contain different data types in Python?**\n",
        "\n",
        "▶**Yes**, lists in Python **can contain different data types**.\n",
        "\n",
        "Example:\n",
        "my_list = [1, \"hello\", 3.14, True, [5, 6]]\n",
        "\n",
        "\n",
        "This list contains:\n",
        "- An integer (`1`)\n",
        "- A string (`\"hello\"`)\n",
        "- A float (`3.14`)\n",
        "- A boolean (`True`)\n",
        "- Another list (`[5, 6]`)\n",
        "\n",
        "Python lists are **flexible** and can store **mixed data types**."
      ],
      "metadata": {
        "id": "zVo_vvblxBOw"
      }
    },
    {
      "cell_type": "markdown",
      "source": [
        "**10 . Explain why strings are immutable in Python.**\n",
        "\n",
        "▶Strings are immutable in Python, meaning they can’t be changed after creation.\n",
        "This makes them safe, memory-efficient, and usable as dictionary keys."
      ],
      "metadata": {
        "id": "ZoUTSG-nx3mr"
      }
    },
    {
      "cell_type": "markdown",
      "source": [
        "**11 .  What advantages do dictionaries offer over lists for certain tasks?**\n",
        "\n",
        "▶\n",
        "Dictionaries are better than lists when you need to store and access data by a key, not by position.\n",
        "\n",
        "**Advantages of dictionaries over lists:**\n",
        "\n",
        "* Faster lookups using keys (O(1) time).\n",
        "\n",
        "* Key-value pairs make data more meaningful.\n",
        "\n",
        "* No need to search linearly, like in lists.\n",
        "\n",
        "* Ideal for tasks like counting items, storing settings, or mapping names to values.\n",
        "\n",
        "Example:\n",
        "\n",
        "**Using a dictionary**\n",
        "\n",
        "student = {\"name\": \"Alice\", \"age\": 20}\n",
        "\n",
        "**Using a list (less clear)**\n",
        "\n",
        "student = [\"Alice\", 20]\n",
        "\n",
        "\n"
      ],
      "metadata": {
        "id": "jLOmh7hAyzOK"
      }
    },
    {
      "cell_type": "markdown",
      "source": [
        "**12 . Describe a scenario where using a tuple would be preferable over a list.**\n",
        "\n",
        "▶Use a tuple instead of a list when you want data that should not change.\n",
        "\n",
        "**Storing coordinates (x, y) of a point:**\n",
        "\n",
        "point = (10, 20)  # Tuple is perfect here\n",
        "\n",
        "\n",
        "**Why tuple?**\n",
        "\n",
        "It’s immutable (can't be changed by mistake).\n",
        "\n",
        "It’s faster and uses less memory than a list.\n",
        "\n",
        "Makes your intention clear: this data is fixed.\n",
        "\n",
        "**Perfect for things like:**\n",
        "\n",
        "\n",
        "Function return values\n",
        "\n",
        "Fixed configuration\n",
        "\n",
        "Dictionary keys"
      ],
      "metadata": {
        "id": "CW61uthO0NsM"
      }
    },
    {
      "cell_type": "markdown",
      "source": [
        "**13 . How do sets handle duplicate values in Python?**\n",
        "\n",
        "▶Sets automatically remove duplicate values in Python.\n",
        "\n",
        "#### Example:\n",
        "my_set = {1, 2, 2, 3, 3, 3}\n",
        "\n",
        "print(my_set)  \n",
        "- Only **unique items** are kept.\n",
        "- Great for checking **duplicates**, filtering **unique values**, etc.\n",
        "So, sets are perfect when you want to **store items without repetition**."
      ],
      "metadata": {
        "id": "kOk1dwqC1mU4"
      }
    },
    {
      "cell_type": "markdown",
      "source": [
        "**14 .  How does the “in” keyword work differently for lists and dictionaries?**\n",
        "\n",
        "▶  \n",
        "The **`in`** keyword checks for **presence**, but behaves differently for lists and dictionaries:\n",
        "\n",
        "#### For **lists**:\n",
        "Checks if a **value** exists in the list.\n",
        "\n",
        "fruits = [\"apple\", \"banana\"]\n",
        "\n",
        "print(\"apple\" in fruits)  ✅ True\n",
        "\n",
        "\n",
        "#### For **dictionaries**:\n",
        "Checks if a **key** exists (not the value).\n",
        "\n",
        "person = {\"name\": \"Alice\", \"age\": 25}\n",
        "\n",
        "print(\"name\" in person)    ✅ True (key)\n",
        "\n",
        "print(25 in person)     ❌ False (25 is a value, not a key)\n",
        "\n",
        "So, `in` checks **values in lists**, but **keys in dictionaries**."
      ],
      "metadata": {
        "id": "BbiuqOjM3ROg"
      }
    },
    {
      "cell_type": "markdown",
      "source": [
        "**15 . Can you modify the elements of a tuple? Explain why or why not.**\n",
        "\n",
        "▶  **No, you cannot modify elements of a tuple** because tuples are **immutable** in Python.\n",
        "\n",
        "##### Why?\n",
        "- Once a tuple is created, its **items can't be changed, added, or removed**.\n",
        "- This makes tuples **safe and reliable** for storing fixed data.\n",
        "\n",
        "##### Example:\n",
        "t = (1, 2, 3)\n",
        "\n",
        "t[0] = 10\n",
        "\n",
        "If you need to change values, use a **list** instead.  \n",
        "Tuples are best for **fixed data** like coordinates, dates, or settings."
      ],
      "metadata": {
        "id": "FXpUr2Xq4MVj"
      }
    },
    {
      "cell_type": "markdown",
      "source": [
        "**16 .  What is a nested dictionary, and give an example of its use case?**\n",
        "\n",
        "▶  \n",
        "A **nested dictionary** is a dictionary **inside another dictionary**.\n",
        "\n",
        "##### Example:\n",
        "\n",
        "students = {\n",
        "    \"Alice\": {\"age\": 20, \"grade\": \"A\"},\n",
        "\n",
        "   \"Bob\": {\"age\": 22, \"grade\": \"B\"}\n",
        "}\n",
        "\n",
        "Here, each student has their **own dictionary** with more info.\n",
        "\n",
        "### Use case:\n",
        "Useful for storing **structured data**, like:\n",
        "- Student records\n",
        "- Product details\n",
        "- JSON-style data (like from APIs)\n",
        "\n",
        "###You can access data like:\n",
        "\n",
        "print(students[\"Alice\"][\"grade\"])  \n",
        "\n",
        "It helps keep related info **organized and easy to access**."
      ],
      "metadata": {
        "id": "VZFcReYM5RaU"
      }
    },
    {
      "cell_type": "markdown",
      "source": [
        "**17 . Describe the time complexity of accessing elements in a dictionary.**\n",
        "\n",
        "▶\n",
        "Accessing elements in a dictionary has **O(1)** time complexity on average.\n",
        "\n",
        "#### What that means:\n",
        "- It takes **constant time** to get a value by key — it doesn’t depend on the size of the dictionary.\n",
        "- This is possible because dictionaries use a **hash table** internally.\n",
        "\n",
        "#### Example:\n",
        "\n",
        "person = {\"name\": \"Alice\", \"age\": 25}\n",
        "\n",
        "print(person[\"age\"])  # Fast: O(1)\n",
        "\n",
        "\n",
        " **Note:**   In rare cases (like many hash collisions), access can take longer — but usually, it's very fast."
      ],
      "metadata": {
        "id": "ueT2C_5-6wh8"
      }
    },
    {
      "cell_type": "markdown",
      "source": [
        "**18 . In what situations are lists preferred over dictionaries?**\n",
        "\n",
        "▶\n",
        "Use **lists** when you need to store items in a **specific order** and don’t need to label them with keys.\n",
        "\n",
        "#### Situations where lists are preferred:\n",
        "- **Ordered data** (like steps in a process, items in a queue).\n",
        "- **Index-based access** (e.g., get the 3rd item).\n",
        "- **Storing duplicates** (lists allow repeated values).\n",
        "- When the **relationship between items isn’t key-value**.\n",
        "\n",
        "#### Example:\n",
        "shopping_list = [\"milk\", \"eggs\", \"bread\"]\n",
        "So, prefer lists for **simple, ordered collections** of items."
      ],
      "metadata": {
        "id": "X5MYrvPJ7q44"
      }
    },
    {
      "cell_type": "markdown",
      "source": [
        "**19 .  Why are dictionaries considered unordered, and how does that affect data retrieval?**\n",
        "\n",
        "▶\n",
        "Dictionaries are considered **unordered** because they are designed for **key-based access**, not for maintaining a sequence like lists do.\n",
        "\n",
        "#### Why unordered?\n",
        "- Before **Python 3.7**, dictionaries didn’t preserve the order of items.\n",
        "- From **Python 3.7+**, they **do preserve insertion order**, but they’re still logically unordered because:\n",
        "  - You **access values by key**, not by position.\n",
        "  - The main goal is **fast lookup**, not ordered data.\n",
        "\n",
        "#### How it affects data retrieval:\n",
        "- You **can’t access values by index** (like `dict[0]` won’t work).\n",
        "- You must use the **key** to retrieve the value.\n",
        "- Order **doesn’t affect** performance — lookups are still **fast (O(1))**.\n",
        "\n",
        "#### Example:\n",
        "\n",
        "person = {\"name\": \"Alice\", \"age\": 25}\n",
        "\n",
        "print(person[\"age\"])  \n",
        "So, dictionaries focus on **speed and key-value mapping**, not the order of elements."
      ],
      "metadata": {
        "id": "C0YaLxPg8muB"
      }
    },
    {
      "cell_type": "markdown",
      "source": [
        "**20 .  Explain the difference between a list and a dictionary in terms of data retrieval.**\n",
        "\n",
        "▶\n",
        "The key difference between a **list** and a **dictionary** in data retrieval is:\n",
        "\n",
        "##### **List**:\n",
        "- Access data by **index (position)**.\n",
        "\n",
        "- Example:\n",
        "\n",
        "  my_list = [\"apple\", \"banana\"]\n",
        "\n",
        "  print(my_list[0])  \n",
        "\n",
        "   Output: \"apple\"\n",
        "\n",
        "- Slower lookup if you're searching by value (O(n) time).\n",
        "\n",
        "#### **Dictionary**:\n",
        "- Access data by **key (name/label)**.\n",
        "- Example:\n",
        "\n",
        "  my_dict = {\"fruit\": \"apple\", \"drink\": \"juice\"}\n",
        "\n",
        "  print(my_dict[\"fruit\"])\n",
        "\n",
        "    Output: \"apple\"\n",
        "\n",
        "- Much **faster retrieval** by key (O(1) time on average)."
      ],
      "metadata": {
        "id": "RAwQlb4o9jpv"
      }
    },
    {
      "cell_type": "markdown",
      "source": [
        "# **Practical Questions**"
      ],
      "metadata": {
        "id": "a6JlyMOX-3Xt"
      }
    },
    {
      "cell_type": "code",
      "source": [
        "#1 .  Write a code to create a string with your name and print it\n",
        "name = \"Tapash\"\n",
        "print(name)\n"
      ],
      "metadata": {
        "colab": {
          "base_uri": "https://localhost:8080/"
        },
        "id": "UYUiT88g_hsJ",
        "outputId": "f68ed44a-67da-40a5-e18d-6759782b0520"
      },
      "execution_count": 2,
      "outputs": [
        {
          "output_type": "stream",
          "name": "stdout",
          "text": [
            "Tapash\n"
          ]
        }
      ]
    },
    {
      "cell_type": "code",
      "source": [
        "#2 . Write a code to find the length of the string \"Hello World\"\n",
        "text = \"Hello World\"\n",
        "length = len(text)\n",
        "print(length)\n"
      ],
      "metadata": {
        "colab": {
          "base_uri": "https://localhost:8080/"
        },
        "id": "1FIz8U1jAfE1",
        "outputId": "df1e3731-c084-4353-d249-ad7b3e44883b"
      },
      "execution_count": 3,
      "outputs": [
        {
          "output_type": "stream",
          "name": "stdout",
          "text": [
            "11\n"
          ]
        }
      ]
    },
    {
      "cell_type": "code",
      "source": [
        "#3 .  Write a code to slice the first 3 characters from the string \"Python Programming\".\n",
        "text = \"Python Programming\"\n",
        "slice = text[:3]\n",
        "print(slice)\n"
      ],
      "metadata": {
        "colab": {
          "base_uri": "https://localhost:8080/"
        },
        "id": "BLKMwmfvBCJ1",
        "outputId": "5e75d9cd-e0ce-4048-e631-0efdfebd4ee2"
      },
      "execution_count": 4,
      "outputs": [
        {
          "output_type": "stream",
          "name": "stdout",
          "text": [
            "Pyt\n"
          ]
        }
      ]
    },
    {
      "cell_type": "code",
      "source": [
        "#4 .  Write a code to convert the string \"hello\" to uppercase.\n",
        "text = \"hello\"\n",
        "uppercase_text = text.upper()\n",
        "print(uppercase_text)\n"
      ],
      "metadata": {
        "colab": {
          "base_uri": "https://localhost:8080/"
        },
        "id": "Fa0_0QZuBZ59",
        "outputId": "b28243b7-e431-43e0-970c-2b768b80b9cc"
      },
      "execution_count": 5,
      "outputs": [
        {
          "output_type": "stream",
          "name": "stdout",
          "text": [
            "HELLO\n"
          ]
        }
      ]
    },
    {
      "cell_type": "code",
      "source": [
        "#5 .  Write a code to replace the word \"apple\" with \"orange\" in the string \"I like apple\"\n",
        "text = \"I like apple\"\n",
        "new_text = text.replace(\"apple\", \"orange\")\n",
        "print(new_text)\n"
      ],
      "metadata": {
        "colab": {
          "base_uri": "https://localhost:8080/"
        },
        "id": "Ec6pEmQrBtAL",
        "outputId": "b7769774-187f-4935-984d-cb1395d22a1b"
      },
      "execution_count": 6,
      "outputs": [
        {
          "output_type": "stream",
          "name": "stdout",
          "text": [
            "I like orange\n"
          ]
        }
      ]
    },
    {
      "cell_type": "code",
      "source": [
        "#6 .  Write a code to create a list with numbers 1 to 5 and print it.\n",
        "numbers = [1, 2, 3, 4, 5]\n",
        "print(numbers)\n"
      ],
      "metadata": {
        "colab": {
          "base_uri": "https://localhost:8080/"
        },
        "id": "uiVyxC1MCKML",
        "outputId": "db9ae216-d974-488e-a50c-382fd3b1a59f"
      },
      "execution_count": 7,
      "outputs": [
        {
          "output_type": "stream",
          "name": "stdout",
          "text": [
            "[1, 2, 3, 4, 5]\n"
          ]
        }
      ]
    },
    {
      "cell_type": "code",
      "source": [
        "#7 . Write a code to append the number 10 to the list [1, 2, 3, 4] .\n",
        "numbers = [1, 2, 3, 4]\n",
        "numbers.append(10)\n",
        "print(numbers)\n"
      ],
      "metadata": {
        "colab": {
          "base_uri": "https://localhost:8080/"
        },
        "id": "L_i8Ng2ACdwW",
        "outputId": "7ecd5a43-c416-413f-96d0-c0d1f9a9e989"
      },
      "execution_count": 8,
      "outputs": [
        {
          "output_type": "stream",
          "name": "stdout",
          "text": [
            "[1, 2, 3, 4, 10]\n"
          ]
        }
      ]
    },
    {
      "cell_type": "code",
      "source": [
        "#8 . Write a code to remove the number 3 from the list [1, 2, 3, 4, 5] .\n",
        "numbers = [1, 2, 3, 4, 5]\n",
        "numbers.remove(3)\n",
        "print(numbers)\n"
      ],
      "metadata": {
        "colab": {
          "base_uri": "https://localhost:8080/"
        },
        "id": "TyMFCkgKCvtN",
        "outputId": "43f80d87-aa00-410a-c123-3f859049f87f"
      },
      "execution_count": 9,
      "outputs": [
        {
          "output_type": "stream",
          "name": "stdout",
          "text": [
            "[1, 2, 4, 5]\n"
          ]
        }
      ]
    },
    {
      "cell_type": "code",
      "source": [
        "#9 . Write a code to access the second element in the list ['a', 'b', 'c', 'd'].\n",
        "letters = ['a', 'b', 'c', 'd']\n",
        "second_element = letters[1]\n",
        "print(second_element)\n"
      ],
      "metadata": {
        "colab": {
          "base_uri": "https://localhost:8080/"
        },
        "id": "a1gZlKLSC--3",
        "outputId": "e92296fa-9aee-4726-8eca-6586b6a1282a"
      },
      "execution_count": 10,
      "outputs": [
        {
          "output_type": "stream",
          "name": "stdout",
          "text": [
            "b\n"
          ]
        }
      ]
    },
    {
      "cell_type": "code",
      "source": [
        "#10.  Write a code to reverse the list [10, 20, 30, 40, 50].\n",
        "numbers = [10, 20, 30, 40, 50]\n",
        "numbers.reverse()\n",
        "print(numbers)\n"
      ],
      "metadata": {
        "colab": {
          "base_uri": "https://localhost:8080/"
        },
        "id": "KQgCkUsWDSRc",
        "outputId": "0d1a7067-ac27-48f3-abd6-326702cab126"
      },
      "execution_count": 11,
      "outputs": [
        {
          "output_type": "stream",
          "name": "stdout",
          "text": [
            "[50, 40, 30, 20, 10]\n"
          ]
        }
      ]
    },
    {
      "cell_type": "code",
      "source": [
        "#11. Write a code to create a tuple with the elements 100, 200, 300 and print it.\n",
        "my_tuple = (100, 200, 300)\n",
        "print(my_tuple)\n"
      ],
      "metadata": {
        "colab": {
          "base_uri": "https://localhost:8080/"
        },
        "id": "Uv_krkixDul5",
        "outputId": "110bbf09-5ab6-4ea3-cc3e-094d1fec12e2"
      },
      "execution_count": 12,
      "outputs": [
        {
          "output_type": "stream",
          "name": "stdout",
          "text": [
            "(100, 200, 300)\n"
          ]
        }
      ]
    },
    {
      "cell_type": "code",
      "source": [
        "#12. Write a code to access the second-to-last element of the tuple ('red', 'green', 'blue', 'yellow').\n",
        "colors = ('red', 'green', 'blue', 'yellow')\n",
        "second_last = colors[-2]\n",
        "print(second_last)\n"
      ],
      "metadata": {
        "colab": {
          "base_uri": "https://localhost:8080/"
        },
        "id": "5mFxDIqfECEn",
        "outputId": "959cbec6-3aff-44c8-9403-0c69e9e6c02b"
      },
      "execution_count": 13,
      "outputs": [
        {
          "output_type": "stream",
          "name": "stdout",
          "text": [
            "blue\n"
          ]
        }
      ]
    },
    {
      "cell_type": "code",
      "source": [
        "#13. Write a code to find the minimum number in the tuple (10, 20, 5, 15).\n",
        "numbers = (10, 20, 5, 15)\n",
        "minimum = min(numbers)\n",
        "print(minimum)\n"
      ],
      "metadata": {
        "colab": {
          "base_uri": "https://localhost:8080/"
        },
        "id": "DtyYYb-jEPMq",
        "outputId": "f8d60af4-bf3e-4729-d37a-360fcec3468a"
      },
      "execution_count": 14,
      "outputs": [
        {
          "output_type": "stream",
          "name": "stdout",
          "text": [
            "5\n"
          ]
        }
      ]
    },
    {
      "cell_type": "code",
      "source": [
        "#14. Write a code to find the index of the element \"cat\" in the tuple ('dog', 'cat', 'rabbit').\n",
        "animals = ('dog', 'cat', 'rabbit')\n",
        "index_of_cat = animals.index('cat')\n",
        "print(index_of_cat)\n",
        "\n"
      ],
      "metadata": {
        "colab": {
          "base_uri": "https://localhost:8080/"
        },
        "id": "e1hg323pEgOx",
        "outputId": "4ec335f6-0b59-4c7c-9f22-b0700a277d26"
      },
      "execution_count": 15,
      "outputs": [
        {
          "output_type": "stream",
          "name": "stdout",
          "text": [
            "1\n"
          ]
        }
      ]
    },
    {
      "cell_type": "code",
      "source": [
        "#15. Write a code to create a tuple containing three different fruits and check if \"kiwi\" is in it.\n",
        "fruits = (\"apple\", \"banana\", \"orange\")\n",
        "if \"kiwi\" in fruits:\n",
        "    print(\"Kiwi is in the tuple.\")\n",
        "else:\n",
        "    print(\"Kiwi is not in the tuple.\")\n"
      ],
      "metadata": {
        "colab": {
          "base_uri": "https://localhost:8080/"
        },
        "id": "EfetypcyExqm",
        "outputId": "882372c4-8780-4376-9287-f6fb7a48b77e"
      },
      "execution_count": 16,
      "outputs": [
        {
          "output_type": "stream",
          "name": "stdout",
          "text": [
            "Kiwi is not in the tuple.\n"
          ]
        }
      ]
    },
    {
      "cell_type": "code",
      "source": [
        "#16. Write a code to create a set with the elements 'a', 'b', 'c' and print it.\n",
        "my_set = {'a', 'b', 'c'}\n",
        "print(my_set)\n"
      ],
      "metadata": {
        "colab": {
          "base_uri": "https://localhost:8080/"
        },
        "id": "zF-5hW_0E_bP",
        "outputId": "225bbe69-3d1e-42e7-85e3-2981e0ed7d37"
      },
      "execution_count": 17,
      "outputs": [
        {
          "output_type": "stream",
          "name": "stdout",
          "text": [
            "{'c', 'b', 'a'}\n"
          ]
        }
      ]
    },
    {
      "cell_type": "code",
      "source": [
        "#17. Write a code to clear all elements from the set {1, 2, 3, 4, 5}.\n",
        "my_set = {1, 2, 3, 4, 5}\n",
        "my_set.clear()\n",
        "print(my_set)\n"
      ],
      "metadata": {
        "colab": {
          "base_uri": "https://localhost:8080/"
        },
        "id": "xmP1J0seFYpG",
        "outputId": "c790562d-2c0a-4827-9dbd-8d97977cc439"
      },
      "execution_count": 18,
      "outputs": [
        {
          "output_type": "stream",
          "name": "stdout",
          "text": [
            "set()\n"
          ]
        }
      ]
    },
    {
      "cell_type": "code",
      "source": [
        "#18. Write a code to remove the element 4 from the set {1, 2, 3, 4}.\n",
        "my_set = {1, 2, 3, 4}\n",
        "my_set.remove(4)\n",
        "print(my_set)\n"
      ],
      "metadata": {
        "colab": {
          "base_uri": "https://localhost:8080/"
        },
        "id": "kHh8HR9VFlzt",
        "outputId": "605e98c9-f207-432f-8a63-b2da91dac8df"
      },
      "execution_count": 19,
      "outputs": [
        {
          "output_type": "stream",
          "name": "stdout",
          "text": [
            "{1, 2, 3}\n"
          ]
        }
      ]
    },
    {
      "cell_type": "code",
      "source": [
        "#19. Write a code to find the union of two sets {1, 2, 3} and {3, 4, 5}\n",
        "set1 = {1, 2, 3}\n",
        "set2 = {3, 4, 5}\n",
        "union_set = set1.union(set2)\n",
        "print(union_set)\n"
      ],
      "metadata": {
        "colab": {
          "base_uri": "https://localhost:8080/"
        },
        "id": "mqSFerBUF3NW",
        "outputId": "e88841cd-de57-42f0-85e7-3cb630644c70"
      },
      "execution_count": 20,
      "outputs": [
        {
          "output_type": "stream",
          "name": "stdout",
          "text": [
            "{1, 2, 3, 4, 5}\n"
          ]
        }
      ]
    },
    {
      "cell_type": "code",
      "source": [
        "#20. Write a code to find the intersection of two sets {1, 2, 3} and {2, 3, 4}.\n",
        "set1 = {1, 2, 3}\n",
        "set2 = {2, 3, 4}\n",
        "intersection_set = set1.intersection(set2)\n",
        "print(intersection_set)\n"
      ],
      "metadata": {
        "colab": {
          "base_uri": "https://localhost:8080/"
        },
        "id": "mrI7dYF3GEV3",
        "outputId": "d885ecc0-739b-4b42-a747-42a6bff1cedb"
      },
      "execution_count": 21,
      "outputs": [
        {
          "output_type": "stream",
          "name": "stdout",
          "text": [
            "{2, 3}\n"
          ]
        }
      ]
    },
    {
      "cell_type": "code",
      "source": [
        "#21. Write a code to create a dictionary with the keys \"name\", \"age\", and \"city\", and print it\n",
        "person = {\n",
        "    \"name\": \"Tapash\",\n",
        "    \"age\": 26,\n",
        "    \"city\": \"west bengal\"\n",
        "}\n",
        "print(person)\n"
      ],
      "metadata": {
        "colab": {
          "base_uri": "https://localhost:8080/"
        },
        "id": "ejDUzGS9GR_6",
        "outputId": "b90e1c8d-da17-4bcf-ad28-e6a810603287"
      },
      "execution_count": 22,
      "outputs": [
        {
          "output_type": "stream",
          "name": "stdout",
          "text": [
            "{'name': 'Tapash', 'age': 26, 'city': 'west bengal'}\n"
          ]
        }
      ]
    },
    {
      "cell_type": "code",
      "source": [
        "#22. Write a code to add a new key-value pair \"country\": \"USA\" to the dictionary {'name': 'John', 'age': 25}.\n",
        "person = {'name': 'John', 'age': 25}\n",
        "person['country'] = 'USA'\n",
        "print(person)\n"
      ],
      "metadata": {
        "colab": {
          "base_uri": "https://localhost:8080/"
        },
        "id": "JVOFGMtNGvb2",
        "outputId": "1dd024c2-80bc-4731-e4da-20b2afeeb4fe"
      },
      "execution_count": 23,
      "outputs": [
        {
          "output_type": "stream",
          "name": "stdout",
          "text": [
            "{'name': 'John', 'age': 25, 'country': 'USA'}\n"
          ]
        }
      ]
    },
    {
      "cell_type": "code",
      "source": [
        "#23. Write a code to access the value associated with the key \"name\" in the dictionary {'name': 'Alice', 'age': 30}.\n",
        "person = {'name': 'Alice', 'age': 30}\n",
        "name_value = person['name']\n",
        "print(name_value)\n"
      ],
      "metadata": {
        "colab": {
          "base_uri": "https://localhost:8080/"
        },
        "id": "tjzD5mitHIMw",
        "outputId": "daf9cc28-9199-4630-aa0f-fa3e24b4eba0"
      },
      "execution_count": 24,
      "outputs": [
        {
          "output_type": "stream",
          "name": "stdout",
          "text": [
            "Alice\n"
          ]
        }
      ]
    },
    {
      "cell_type": "code",
      "source": [
        "#24. Write a code to remove the key \"age\" from the dictionary {'name': 'Bob', 'age': 22, 'city': 'New York'}.\n",
        "person = {'name': 'Bob', 'age': 22, 'city': 'New York'}\n",
        "person.pop('age')\n",
        "print(person)\n"
      ],
      "metadata": {
        "colab": {
          "base_uri": "https://localhost:8080/"
        },
        "id": "n8bjAs-yHZvT",
        "outputId": "c291fd7f-e727-43fb-868c-208dbf8ea2a4"
      },
      "execution_count": 25,
      "outputs": [
        {
          "output_type": "stream",
          "name": "stdout",
          "text": [
            "{'name': 'Bob', 'city': 'New York'}\n"
          ]
        }
      ]
    },
    {
      "cell_type": "code",
      "source": [
        "#25. Write a code to check if the key \"city\" exists in the dictionary {'name': 'Alice', 'city': 'Paris'}.\n",
        "person = {'name': 'Alice', 'city': 'Paris'}\n",
        "\n",
        "if 'city' in person:\n",
        "    print(\"Key 'city' exists in the dictionary.\")\n",
        "else:\n",
        "    print(\"Key 'city' does not exist.\")\n"
      ],
      "metadata": {
        "colab": {
          "base_uri": "https://localhost:8080/"
        },
        "id": "vlbcbvhvHtEr",
        "outputId": "fe3d829c-495a-4c41-a91d-5b1576ff4e18"
      },
      "execution_count": 26,
      "outputs": [
        {
          "output_type": "stream",
          "name": "stdout",
          "text": [
            "Key 'city' exists in the dictionary.\n"
          ]
        }
      ]
    },
    {
      "cell_type": "code",
      "source": [
        "#26. Write a code to create a list, a tuple, and a dictionary, and print them all.\n",
        "\n",
        "# Creating a list\n",
        "my_list = [1, 2, 3, 4, 5]\n",
        "\n",
        "# Creating a tuple\n",
        "my_tuple = ('apple', 'banana', 'cherry')\n",
        "\n",
        "# Creating a dictionary\n",
        "my_dict = {'name': 'John', 'age': 30}\n",
        "\n",
        "# Printing all\n",
        "print(\"List:\", my_list)\n",
        "print(\"Tuple:\", my_tuple)\n",
        "print(\"Dictionary:\", my_dict)\n"
      ],
      "metadata": {
        "colab": {
          "base_uri": "https://localhost:8080/"
        },
        "id": "BUf1lihZH_Ln",
        "outputId": "6700c4fa-c33b-49ce-db92-33c5a69abe55"
      },
      "execution_count": 27,
      "outputs": [
        {
          "output_type": "stream",
          "name": "stdout",
          "text": [
            "List: [1, 2, 3, 4, 5]\n",
            "Tuple: ('apple', 'banana', 'cherry')\n",
            "Dictionary: {'name': 'John', 'age': 30}\n"
          ]
        }
      ]
    },
    {
      "cell_type": "code",
      "source": [
        "'''27. Write a code to create a list of 5 random numbers between 1 and 100, sort it in ascending order, and print the\n",
        "result.(replaced)'''\n",
        "import random\n",
        "\n",
        "# Create a list of 5 random numbers between 1 and 100\n",
        "numbers = [random.randint(1, 100) for _ in range(5)]\n",
        "\n",
        "# Sort the list in ascending order\n",
        "numbers.sort()\n",
        "\n",
        "# Print the sorted list\n",
        "print(\"Sorted list:\", numbers)\n"
      ],
      "metadata": {
        "colab": {
          "base_uri": "https://localhost:8080/"
        },
        "id": "UYnB6AF8Ieun",
        "outputId": "e63f8c77-4693-4f8e-abca-f69a215ef70a"
      },
      "execution_count": 30,
      "outputs": [
        {
          "output_type": "stream",
          "name": "stdout",
          "text": [
            "Sorted list: [43, 61, 74, 75, 96]\n"
          ]
        }
      ]
    },
    {
      "cell_type": "code",
      "source": [
        "#28. Write a code to create a list with strings and print the element at the third index.\n",
        "words = [\"apple\", \"banana\", \"cherry\", \"date\", \"elderberry\"]\n",
        "print(\"Element at index 3:\", words[3])\n"
      ],
      "metadata": {
        "colab": {
          "base_uri": "https://localhost:8080/"
        },
        "id": "VOEyhfMyJU9Q",
        "outputId": "eff37393-01e3-43f9-cb05-de516bce0fcb"
      },
      "execution_count": 31,
      "outputs": [
        {
          "output_type": "stream",
          "name": "stdout",
          "text": [
            "Element at index 3: date\n"
          ]
        }
      ]
    },
    {
      "cell_type": "code",
      "source": [
        "#29. Write a code to combine two dictionaries into one and print the result.\n",
        "dict1 = {'a': 1, 'b': 2}\n",
        "dict2 = {'c': 3, 'd': 4}\n",
        "\n",
        "# Combine the dictionaries\n",
        "combined_dict = {**dict1, **dict2}\n",
        "\n",
        "print(\"Combined Dictionary:\", combined_dict)\n"
      ],
      "metadata": {
        "colab": {
          "base_uri": "https://localhost:8080/"
        },
        "id": "4Zh7pHfDJfcO",
        "outputId": "f9e1fe2e-4e77-45d6-bbf8-b9e23559bb3c"
      },
      "execution_count": 32,
      "outputs": [
        {
          "output_type": "stream",
          "name": "stdout",
          "text": [
            "Combined Dictionary: {'a': 1, 'b': 2, 'c': 3, 'd': 4}\n"
          ]
        }
      ]
    },
    {
      "cell_type": "code",
      "source": [
        "#30. Write a code to convert a list of strings into a set\n",
        "fruits = [\"apple\", \"banana\", \"cherry\", \"apple\"]\n",
        "fruits_set = set(fruits)\n",
        "print(fruits_set)\n"
      ],
      "metadata": {
        "colab": {
          "base_uri": "https://localhost:8080/"
        },
        "id": "d4rxpl7mJp__",
        "outputId": "f8f0000b-1cbc-4ae2-aea7-43d8a93d6118"
      },
      "execution_count": 33,
      "outputs": [
        {
          "output_type": "stream",
          "name": "stdout",
          "text": [
            "{'cherry', 'banana', 'apple'}\n"
          ]
        }
      ]
    }
  ]
}